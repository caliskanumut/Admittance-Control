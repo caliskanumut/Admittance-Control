{
 "cells": [
  {
   "cell_type": "code",
   "execution_count": 1,
   "metadata": {},
   "outputs": [],
   "source": [
    "import os\n",
    "import matplotlib.pyplot as plt\n",
    "import control as ct\n",
    "import numpy as np"
   ]
  },
  {
   "cell_type": "code",
   "execution_count": 2,
   "metadata": {},
   "outputs": [],
   "source": [
    "def model(z,u,k,Fext):\n",
    "    x1 = z[0]\n",
    "    x2 = z[1]\n",
    "    x3 = z[2]\n",
    "    x4 = z[3]\n",
    "    \n",
    "    m1 = 4 #  kg\n",
    "    m2 = 2 # kg\n",
    "    b = 126.0 # Ns/m\n",
    "    \n",
    "    \n",
    "    dx1dt = x2\n",
    "    dx2dt = -(k/m1)*x1 + (k/m1)*x3 - (b/m1)*x2 + u/m1\n",
    "    dx3dt = x4\n",
    "    dx4dt =  (k/m2)*x1-(k/m2)*x3 - Fext/m2\n",
    "    \n",
    "    return [dx1dt,dx2dt,dx3dt,dx4dt]"
   ]
  },
  {
   "cell_type": "code",
   "execution_count": 3,
   "metadata": {},
   "outputs": [],
   "source": [
    "def forwardeuler(dx,z,step):\n",
    "    z = z + step * dx\n",
    "    return z"
   ]
  },
  {
   "cell_type": "code",
   "execution_count": 4,
   "metadata": {},
   "outputs": [],
   "source": [
    "def poscont(x1,x2,posr,posrd):\n",
    "    Kp = 600#N/m\n",
    "    Kd = 300#Ns/m\n",
    "    u = Kp*(posr - x1) + Kd*(posrd - x2)\n",
    "    return u"
   ]
  },
  {
   "cell_type": "code",
   "execution_count": 5,
   "metadata": {},
   "outputs": [],
   "source": [
    "def admittancemodel(x,u,Kd,Dd):\n",
    "    dx = (u - Kd*x)/Dd\n",
    "    return dx"
   ]
  },
  {
   "cell_type": "code",
   "execution_count": 12,
   "metadata": {},
   "outputs": [],
   "source": [
    "def admitcont(Fh,Fmeas,step,posr):\n",
    "    Kd = 1200\n",
    "    Dd = 60\n",
    "    dx = admittancemodel(posr,Fh-Fmeas,Kd,Dd)\n",
    "    posr = forwardeuler(dx,posr,step)\n",
    "    posrd = dx\n",
    "    return posr,posrd"
   ]
  },
  {
   "cell_type": "code",
   "execution_count": 13,
   "metadata": {},
   "outputs": [],
   "source": [
    "\n",
    "deltat = 0.0001\n",
    "tf = 20\n",
    "ti = 0\n",
    "n = int(((tf-ti)/deltat)+1)\n",
    "\n",
    "t = np.linspace(ti,tf,n)\n",
    "Fext = np.zeros(n)\n",
    "Fext[101:n] = 10\n",
    "z  = np.zeros(4)\n",
    "x1 = np.zeros(n)\n",
    "x2 = np.zeros(n)\n",
    "x3 = np.zeros(n)\n",
    "x4 = np.zeros(n)\n",
    "\n",
    "\n",
    "k = 5000.0 #N/m\n",
    "\n",
    "u = 0\n",
    "uarr = np.zeros(n)\n",
    "Fmarr = np.zeros(n)\n",
    "posr = 0\n",
    "#step input to 20 cm\n",
    "for i in range(n):\n",
    "    dx = model(z,u,k,Fext[i])\n",
    "    dx = np.array(dx)\n",
    "    z = forwardeuler(dx, z, deltat)\n",
    "    Fm  = k*(-z[2]+z[0])\n",
    "    Fmd  = k*(-z[3]+z[1])\n",
    "    posr,posrd = admitcont(Fext[i],Fm,deltat,posr)\n",
    "    u = poscont(z[0],z[1],posr,posrd)\n",
    "    \n",
    "    uarr[i] = u\n",
    "    Fmarr[i] = Fm\n",
    "    x1[i] = z[0]\n",
    "    x2[i] = z[1]\n",
    "    x3[i] = z[2]\n",
    "    x4[i] = z[3]\n",
    "    "
   ]
  },
  {
   "cell_type": "code",
   "execution_count": 14,
   "metadata": {},
   "outputs": [
    {
     "data": {
      "text/plain": [
       "<matplotlib.legend.Legend at 0x7f9f2bf00910>"
      ]
     },
     "execution_count": 14,
     "metadata": {},
     "output_type": "execute_result"
    },
    {
     "name": "stderr",
     "output_type": "stream",
     "text": [
      "/home/umut/anaconda3/lib/python3.7/site-packages/IPython/core/pylabtools.py:132: UserWarning: Creating legend with loc=\"best\" can be slow with large amounts of data.\n",
      "  fig.canvas.print_figure(bytes_io, **kw)\n"
     ]
    },
    {
     "data": {
      "image/png": "[encoded data removed]",
      "text/plain": [
       "<Figure size 432x288 with 1 Axes>"
      ]
     },
     "metadata": {
      "needs_background": "light"
     },
     "output_type": "display_data"
    }
   ],
   "source": [
    "plt.figure(1)\n",
    "plt.xlabel(\"time (s)\")\n",
    "plt.xlim(-0.001,1)\n",
    "plt.plot(t,Fext,label= 'Fdesired')\n",
    "plt.plot(t,Fmarr,label = 'Fmeasured')\n",
    "plt.legend()"
   ]
  },
  {
   "cell_type": "code",
   "execution_count": 15,
   "metadata": {},
   "outputs": [
    {
     "data": {
      "text/plain": [
       "<matplotlib.legend.Legend at 0x7f9f2d21d390>"
      ]
     },
     "execution_count": 15,
     "metadata": {},
     "output_type": "execute_result"
    },
    {
     "name": "stderr",
     "output_type": "stream",
     "text": [
      "/home/umut/anaconda3/lib/python3.7/site-packages/IPython/core/pylabtools.py:132: UserWarning: Creating legend with loc=\"best\" can be slow with large amounts of data.\n",
      "  fig.canvas.print_figure(bytes_io, **kw)\n"
     ]
    },
    {
     "data": {
      "image/png": "[encoded data removed]",
      "text/plain": [
       "<Figure size 432x288 with 1 Axes>"
      ]
     },
     "metadata": {
      "needs_background": "light"
     },
     "output_type": "display_data"
    }
   ],
   "source": [
    "plt.figure(2)\n",
    "plt.xlabel(\"time (s)\")\n",
    "plt.xlim(-0.001,1)\n",
    "plt.plot(t,uarr,label= 'Control Input (N)')\n",
    "\n",
    "plt.legend()\n"
   ]
  },
  {
   "cell_type": "code",
   "execution_count": null,
   "metadata": {},
   "outputs": [],
   "source": []
  }
 ],
 "metadata": {
  "kernelspec": {
   "display_name": "Python 3.7.6 64-bit ('base': conda)",
   "language": "python",
   "name": "python37664bitbasecondad0da69248b054e87b5ddaa5c9e983988"
  },
  "language_info": {
   "codemirror_mode": {
    "name": "ipython",
    "version": 3
   },
   "file_extension": ".py",
   "mimetype": "text/x-python",
   "name": "python",
   "nbconvert_exporter": "python",
   "pygments_lexer": "ipython3",
   "version": "3.7.6"
  }
 },
 "nbformat": 4,
 "nbformat_minor": 2
}
